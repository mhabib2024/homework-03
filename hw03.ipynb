{
  "cells": [
    {
      "cell_type": "markdown",
      "metadata": {},
      "source": [
        "# DATASCI 101, Homework 03"
      ]
    },
    {
      "cell_type": "code",
      "execution_count": 60,
      "metadata": {},
      "outputs": [],
      "source": [
        "# basic setup, run this first\n",
        "import warnings\n",
        "warnings.simplefilter(action='ignore', category=FutureWarning)\n",
        "import numpy as np"
      ]
    },
    {
      "cell_type": "markdown",
      "metadata": {},
      "source": [
        "## Question 1\n",
        "\n",
        "We will start this homework with some questions on collections in Python.\n",
        "\n",
        "### Q1.a\n",
        "\n",
        "Recall that *sets* are collections where each value in the collection only appears once.\n",
        "\n",
        "Using the `set` function, turn both of these strings into sets. Then use set methods to find\n",
        "\n",
        "* How many letters are shared between the two names?\n",
        "* Which letters are in \"George Washington\" that are not in \"Abraham Lincoln\"?\n",
        "* How many letters are in neither president's name?\n"
      ]
    },
    {
      "cell_type": "code",
      "execution_count": 61,
      "metadata": {},
      "outputs": [
        {
          "name": "stdout",
          "output_type": "stream",
          "text": [
            "7\n",
            "{'s', 't', 'e', 'w', 'g'}\n",
            "15\n"
          ]
        }
      ],
      "source": [
        "gw = \"George Washington\".lower()\n",
        "al = \"Abraham Lincoln\".lower()\n",
        "az = \"abcdefghijklmnopqrstuvwxyz\"\n",
        "\n",
        "george_set = set(gw)\n",
        "lincoln_set = set(al)\n",
        "rand_set = set(az)\n",
        "\n",
        "print(len(george_set.intersection(lincoln_set)))\n",
        "print(george_set.difference(lincoln_set))\n",
        "george_set.union(lincoln_set)\n",
        "print(len(rand_set.difference(george_set)))"
      ]
    },
    {
      "cell_type": "markdown",
      "metadata": {},
      "source": [
        "### Q1.b\n",
        "\n",
        "\n",
        "\n",
        "Use a `for` loop to find the unique values in the lunch orders below. Using Python, print out the number of unique items being ordered. (*Hint*: You can use `set()` to create an empty set.)"
      ]
    },
    {
      "cell_type": "code",
      "execution_count": 62,
      "metadata": {},
      "outputs": [
        {
          "name": "stdout",
          "output_type": "stream",
          "text": [
            "7\n"
          ]
        }
      ],
      "source": [
        "#from multiprocessing.reduction import duplicate\n",
        "\n",
        "\n",
        "lunch_orders = [{\"pasta\", \"coffee\"},\n",
        "                {\"fries\",\"sandwich\", \"cookie\"},\n",
        "                {\"pasta\", \"salad\", \"water\"},\n",
        "                {\"salad\", \"pasta\", \"coffee\"},\n",
        "                {\"sandwich\", \"water\"}]\n",
        "\n",
        "\n",
        "unique_items = set()\n",
        "for order in lunch_orders:\n",
        "    for item in order:\n",
        "        unique_items.add(item)\n",
        "\n",
        "print(len(unique_items))"
      ]
    },
    {
      "cell_type": "markdown",
      "metadata": {},
      "source": [
        "### Q1.c\n",
        "\n",
        "Here is a menu at the resturant, with items and their cost:\n",
        "\n",
        "| Item | Price | Vegetarian |\n",
        "| --- | --- | --- |\n",
        "| salad | 8 | True |\n",
        "| soup | 5 | False |\n",
        "| pasta | 12 | True |\n",
        "| sandwich | 9 | False |\n",
        "| burger | 13 | False |\n",
        "| fries | 6 | True |\n",
        "| cake | 6 | True |\n",
        "| cookie| 3 | True |\n",
        "| water | 0 | True |\n",
        "| coffee| 2 | True |\n",
        "| soda | 3 | True |\n",
        "\n",
        "Create a dictionary called `menu` that has the item names as keys and a two-tuple with (price, vegetarian) as the value.\n",
        "\n",
        "Demonstrate by retrieving the price and vegetarian status of \"burger\".\n",
        "\n",
        "(in cell directly under Q1.d)\n",
        "\n",
        "\n",
        "### Q1.d\n",
        "\n",
        "Write a function that takes a lunch order (a set of menu items) and returns the total price.\n",
        "\n",
        "Write a function that takes a lunch order a returns true if the entire order is vegetarian.\n",
        "\n",
        "Use list comprehensions to compute the price of each order and whether each order is vegtarian.\n",
        "\n",
        "(functions and list comprehensions under cell with menu dictionary)"
      ]
    },
    {
      "cell_type": "code",
      "execution_count": 63,
      "metadata": {},
      "outputs": [
        {
          "name": "stdout",
          "output_type": "stream",
          "text": [
            "burger price: $13\n",
            "burger vegetarian status: False\n"
          ]
        }
      ],
      "source": [
        "menu = {\n",
        "    \"salad\": (8, True),\n",
        "    \"soup\": (5, False),\n",
        "    \"pasta\": (12, True),\n",
        "    \"sandwhich\": (9, False),\n",
        "    \"burger\": (13, False),\n",
        "    \"fries\": (6, True),\n",
        "    \"cake\": (6, True),\n",
        "    \"cookie\": (3, True),\n",
        "    \"water\": (0, True),\n",
        "    \"coffee\": (2, True),\n",
        "    \"soda\": (3, True)\n",
        "}\n",
        "\n",
        "p,v = menu[\"burger\"]\n",
        "print(\"burger price: $\" + str(p))\n",
        "print(\"burger vegetarian status: \" + str(v))\n",
        "\n"
      ]
    },
    {
      "cell_type": "code",
      "execution_count": 64,
      "metadata": {},
      "outputs": [
        {
          "name": "stdout",
          "output_type": "stream",
          "text": [
            "Order Prices: [14]\n",
            "Vegetarian Status: [True]\n"
          ]
        }
      ],
      "source": [
        "# Hints: try running the following code\n",
        "# (\"this\", \"is\", \"a tuple\")[1]\n",
        "# [s.upper() for s in {\"hello\", \"world\"}]\n",
        "\n",
        "def total_price_numTwo(order):\n",
        "    total = 0\n",
        "    for o in order:\n",
        "        price, _ = menu[o]\n",
        "        total += price\n",
        "    return total\n",
        "\n",
        "def is_vegetarian_numTwo(order):\n",
        "    for o in order:\n",
        "        _, vegetarian = menu[o]\n",
        "        if (vegetarian == False):\n",
        "            return False\n",
        "        else:\n",
        "            return True\n",
        "        \n",
        "lunch_orders = [\"salad\", \"fries\", \"water\"]\n",
        "order_prices = [total_price_numTwo(lunch_orders)]\n",
        "vegetarian_status = [is_vegetarian_numTwo(lunch_orders)]\n",
        "print(\"Order Prices:\", order_prices)\n",
        "print(\"Vegetarian Status:\", vegetarian_status)"
      ]
    },
    {
      "cell_type": "markdown",
      "metadata": {},
      "source": [
        "### Q1.e\n",
        "\n",
        "When you have completed your menu in the part (c) you can remove the `#` charcters make this code run:"
      ]
    },
    {
      "cell_type": "code",
      "execution_count": 65,
      "metadata": {},
      "outputs": [],
      "source": [
        "menu_dict = {\n",
        "  \"name\": list(menu.keys()),\n",
        "  \"price\": [i[0] for i in menu.values()],\n",
        "  \"vegetarian\": [i[1] for i in menu.values()]\n",
        " }"
      ]
    },
    {
      "cell_type": "code",
      "execution_count": 66,
      "metadata": {},
      "outputs": [
        {
          "name": "stdout",
          "output_type": "stream",
          "text": [
            "most expensive item = $13\n",
            "most expensive item: burger\n",
            "number of vegetarian items: 8\n"
          ]
        }
      ],
      "source": [
        "print(\"most expensive item = $\" + str(max(menu_dict[\"price\"])))\n",
        "print(\"most expensive item: \" + str(menu_dict[\"name\"][np.argmax(menu_dict[\"price\"])]))\n",
        "print(\"number of vegetarian items: \" + str(sum(menu_dict[\"vegetarian\"])))"
      ]
    },
    {
      "cell_type": "markdown",
      "metadata": {},
      "source": [
        "Use this table to compute the following:\n",
        "\n",
        "* What is the price of the most expensive item in the list?\n",
        "* What is the name of the most expensive item? (You can use the `np.argmax()` function to help you.)\n",
        "* How many vegetarian items are there?\n",
        "\n",
        "(answers right above this text cell)\n",
        "\n",
        "### Question 2"
      ]
    },
    {
      "cell_type": "code",
      "execution_count": 67,
      "metadata": {},
      "outputs": [],
      "source": [
        "# run this to do question 2\n",
        "import pandas as pd"
      ]
    },
    {
      "cell_type": "markdown",
      "metadata": {},
      "source": [
        "### Q2.a\n",
        "\n",
        "Here's a Pandas `DataFrame` version of our menu table."
      ]
    },
    {
      "cell_type": "code",
      "execution_count": 68,
      "metadata": {},
      "outputs": [],
      "source": [
        "menu_df = pd.DataFrame({'name': ['salad',\n",
        "  'soup',\n",
        "  'pasta',\n",
        "  'sandwich',\n",
        "  'burger',\n",
        "  'fries',\n",
        "  'cake',\n",
        "  'cookie',\n",
        "  'water',\n",
        "  'coffee',\n",
        "  'soda'],\n",
        " 'price': [8, 5, 12, 9, 13, 6, 6, 3, 0, 2, 3],\n",
        " 'vegetarian': [True,\n",
        "  False,\n",
        "  True,\n",
        "  False,\n",
        "  False,\n",
        "  True,\n",
        "  True,\n",
        "  True,\n",
        "  True,\n",
        "  True,\n",
        "  True]})"
      ]
    },
    {
      "cell_type": "markdown",
      "metadata": {},
      "source": [
        "Using **methods** for Series objects (i.e., methods called on the columns of the table. Compute the following:\n",
        "\n",
        "* The name of the least expensive item on the list.\n",
        "* The number of items that cost between 5 and 10 dollars (inclusive).\n",
        "* The names all of vegetarian items that cost more than 10 dollars."
      ]
    },
    {
      "cell_type": "code",
      "execution_count": 69,
      "metadata": {},
      "outputs": [
        {
          "name": "stdout",
          "output_type": "stream",
          "text": [
            "least expensive item: water\n",
            "number of items costing $5 - $10: 16\n",
            "vegetarian items >$10: {'pasta'}\n"
          ]
        }
      ],
      "source": [
        "print(\"least expensive item: \" + str(menu_df[\"name\"][menu_df[\"price\"].argmin()]))\n",
        "print(\"number of items costing $5 - $10: \" + str((menu_df[\"price\"] >= 5).sum() + (menu_df[\"price\"] <= 10).sum()))\n",
        "\n",
        "def vegetarian_and_expensive(menu):\n",
        "    veggie_items = set()\n",
        "    for i in menu:\n",
        "        price, vegetarian = menu[i]\n",
        "        if ((vegetarian == True) and (price > 10)):\n",
        "            veggie_items.add(i)\n",
        "        \n",
        "    return veggie_items\n",
        "\n",
        "print(\"vegetarian items >$10: \" + str(vegetarian_and_expensive(menu)))\n",
        "#[menu_df[\"name\"][menu_df[\"price\"] > 10]]"
      ]
    },
    {
      "cell_type": "markdown",
      "metadata": {},
      "source": [
        "### Q2.b\n",
        "\n",
        "Create a table that is only composed of items that cost less than or equal to $5 (call the `value_items`).\n"
      ]
    },
    {
      "cell_type": "code",
      "execution_count": 70,
      "metadata": {},
      "outputs": [
        {
          "name": "stdout",
          "output_type": "stream",
          "text": [
            "      name  price  vegetarian\n",
            "1     soup      5       False\n",
            "7   cookie      3        True\n",
            "8    water      0        True\n",
            "9   coffee      2        True\n",
            "10    soda      3        True\n"
          ]
        }
      ],
      "source": [
        "#value_items = [menu_df[\"price\"] <= 5]\n",
        "value_items = menu_df[menu_df['price'] <= 5]\n",
        "print(value_items)"
      ]
    },
    {
      "cell_type": "markdown",
      "metadata": {},
      "source": [
        "How many vegetarian items are in this menu?"
      ]
    },
    {
      "cell_type": "code",
      "execution_count": 71,
      "metadata": {},
      "outputs": [
        {
          "name": "stdout",
          "output_type": "stream",
          "text": [
            "number of vegetarian items in value_items: 4\n"
          ]
        }
      ],
      "source": [
        "print(\"number of vegetarian items in value_items: \" + str(value_items[\"vegetarian\"].sum()))"
      ]
    },
    {
      "cell_type": "markdown",
      "metadata": {},
      "source": [
        "## Q2.c\n",
        "\n",
        "Let's use these techniques on some real data!"
      ]
    },
    {
      "cell_type": "code",
      "execution_count": 72,
      "metadata": {},
      "outputs": [
        {
          "data": {
            "text/plain": [
              "Index(['duration_ms', 'track.explicit', 'key', 'danceability', 'energy',\n",
              "       'loudness', 'acousticness', 'instrumentalness', 'liveness', 'tempo',\n",
              "       'time_signature', 'track.popularity', 'track.album.release_date',\n",
              "       'track.name', 'artist.name'],\n",
              "      dtype='object')"
            ]
          },
          "execution_count": 72,
          "metadata": {},
          "output_type": "execute_result"
        }
      ],
      "source": [
        "spotify = pd.read_csv(\"./spotify.csv\")\n",
        "spotify.columns"
      ]
    },
    {
      "cell_type": "markdown",
      "metadata": {},
      "source": [
        "Using Python and Pandas, answer the following questions:\n",
        "\n",
        "* How many songs have a popularity greater than 80?\n",
        "* For songs with a popularity greater than 80, what is the shortest song (in miliseconds)?\n",
        "* What is the name of the song with popularity greater than 80 that has the slowest tempo?"
      ]
    },
    {
      "cell_type": "code",
      "execution_count": 87,
      "metadata": {},
      "outputs": [
        {
          "name": "stdout",
          "output_type": "stream",
          "text": [
            "number of songs with a popularity greater than 80: 84\n",
            "shortest song with a popularity grester than 80: 109091\n",
            "song with popularity greater than 80 that has the slowest tempo: Lover\n"
          ]
        }
      ],
      "source": [
        "pop_songs = spotify[spotify['track.popularity'] > 80]\n",
        "print(\"number of songs with a popularity greater than 80: \"+ str(pop_songs.shape[0]))\n",
        "print(\"shortest song with a popularity grester than 80: \" + str(pop_songs['duration_ms'].min()))\n",
        "slowest_tempo_song = pop_songs.loc[pop_songs['tempo'].idxmin()]\n",
        "print(\"song with popularity greater than 80 that has the slowest tempo: \" + str(slowest_tempo_song['track.name']))\n"
      ]
    },
    {
      "cell_type": "markdown",
      "metadata": {},
      "source": [
        "### Q2.d\n",
        "\n",
        "Here is a little code that will create a new column with four (approximately) evenly sized groups based on popularly (low, medium, medium high, and high). The code after creating the columns shows how many rows are in each group. There are a few songs with the same popularity value, which makes it difficult to get exactly evenly sized groups, but this is pretty close. The `(a, b]` output on the left shows the popularity range of that group."
      ]
    },
    {
      "cell_type": "code",
      "execution_count": 44,
      "metadata": {},
      "outputs": [
        {
          "data": {
            "text/plain": [
              "popgrp\n",
              "(-0.001, 41.0]    250\n",
              "(53.0, 67.0]      242\n",
              "(67.0, 100.0]     238\n",
              "(41.0, 53.0]      237\n",
              "Name: count, dtype: int64"
            ]
          },
          "execution_count": 44,
          "metadata": {},
          "output_type": "execute_result"
        }
      ],
      "source": [
        "spotify[\"popgrp\"] = pd.qcut(spotify[\"track.popularity\"], 4)\n",
        "spotify[\"popgrp\"].value_counts()"
      ]
    },
    {
      "cell_type": "markdown",
      "metadata": {},
      "source": [
        "For each group, find the number of explicit songs using the `\"track.explicit\"` column. Which group has the most explicit songs?"
      ]
    },
    {
      "cell_type": "code",
      "execution_count": 45,
      "metadata": {},
      "outputs": [
        {
          "data": {
            "text/plain": [
              "popgrp\n",
              "(-0.001, 41.0]    29\n",
              "(41.0, 53.0]      24\n",
              "(53.0, 67.0]      32\n",
              "(67.0, 100.0]     73\n",
              "Name: track.explicit, dtype: int64"
            ]
          },
          "execution_count": 45,
          "metadata": {},
          "output_type": "execute_result"
        }
      ],
      "source": [
        "spotify.groupby(\"popgrp\")[\"track.explicit\"].sum()\n",
        "#(67.0, 100.0] has the most explicit songs\n"
      ]
    },
    {
      "cell_type": "markdown",
      "metadata": {},
      "source": [
        "### Q2.e\n",
        "\n",
        "Create a new column that is the product of `danceability` and `energy`. Find the song with the highest product of danceability and energy. Find the tempo of this song. Is it a particularly fast song in terms of tempo? How many songs are faster than this song? How many are slower?"
      ]
    },
    {
      "cell_type": "code",
      "execution_count": 46,
      "metadata": {},
      "outputs": [
        {
          "name": "stdout",
          "output_type": "stream",
          "text": [
            "Miracle - Radio Edit\n",
            "121.98\n",
            "False\n",
            "number of songs faster than 'Miracle - Radio Edit': 394\n",
            "number of songs slower than 'Miracle - Radio Edit': 571\n"
          ]
        }
      ],
      "source": [
        "spotify[\"dance_and_energy\"] = spotify[\"danceability\"] * spotify[\"energy\"]\n",
        "highest_prod = spotify.loc[spotify[\"dance_and_energy\"].argmax()]\n",
        "print(highest_prod[\"track.name\"])\n",
        "print(highest_prod[\"tempo\"])\n",
        "avg_temp = spotify[\"tempo\"].max()\n",
        "print(highest_prod[\"tempo\"] > avg_temp)\n",
        "print(\"number of songs faster than 'Miracle - Radio Edit': \" + str((spotify[\"tempo\"] > highest_prod[\"tempo\"]).sum()))\n",
        "print(\"number of songs slower than 'Miracle - Radio Edit': \" + str((spotify[\"tempo\"] < highest_prod[\"tempo\"]).sum()))"
      ]
    }
  ],
  "metadata": {
    "kernelspec": {
      "display_name": "Python 3 (ipykernel)",
      "language": "python",
      "name": "python3",
      "path": "/Users/mark/Documents/Professional/Teaching/umich/data-science-101-materials/env/share/jupyter/kernels/python3"
    },
    "language_info": {
      "codemirror_mode": {
        "name": "ipython",
        "version": 3
      },
      "file_extension": ".py",
      "mimetype": "text/x-python",
      "name": "python",
      "nbconvert_exporter": "python",
      "pygments_lexer": "ipython3",
      "version": "3.12.1"
    }
  },
  "nbformat": 4,
  "nbformat_minor": 4
}
